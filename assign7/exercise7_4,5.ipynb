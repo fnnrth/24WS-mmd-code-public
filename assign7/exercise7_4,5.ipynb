{
 "cells": [
  {
   "cell_type": "code",
   "execution_count": 1,
   "metadata": {},
   "outputs": [],
   "source": [
    "import numpy as np\n",
    "import random"
   ]
  },
  {
   "cell_type": "code",
   "execution_count": 2,
   "metadata": {},
   "outputs": [
    {
     "name": "stdout",
     "output_type": "stream",
     "text": [
      "0\n"
     ]
    }
   ],
   "source": [
    "print(random.randint(0,2))"
   ]
  },
  {
   "cell_type": "code",
   "execution_count": null,
   "metadata": {},
   "outputs": [],
   "source": [
    "\n",
    "def generating_data(m,q,df, N):\n",
    "    '''\n",
    "    Exercise 5\n",
    "\n",
    "    Input:\n",
    "    - m: number of columns\n",
    "    - q: number of non zero parameters\n",
    "    - df: difference factor\n",
    "    - N: rows\n",
    "\n",
    "    Output:\n",
    "    - ds: matrix as input for computation of signature matrix\n",
    "    '''\n",
    "    ds = np.zeros([N,m])\n",
    "    random_int =[]\n",
    "    for i in range(q):\n",
    "        pos = random.randint(0,N-1)\n",
    "        while pos in random_int:\n",
    "            pos = random.randint(0,N-1)\n",
    "        ds[pos,0]= 1\n",
    "        random_int.append(pos)\n",
    "\n",
    "    for column in range(1,m):\n",
    "        current_positions = np.where(ds[:,column-1] == 1)[0]\n",
    "\n",
    "        # Step 2: Determine the number of positions to replace\n",
    "        replace_number =  int(df * q)\n",
    "\n",
    "        # Step 3: Randomly select positions to replace\n",
    "        replace_positions = np.random.choice(current_positions,  replace_number,replace=False)\n",
    "        for i in replace_positions:\n",
    "            ds[i,column] = 1\n",
    "        # Step 4: Generate new unique positions\n",
    "        available_positions = np.where(ds[:,column-1] == 0)[0]\n",
    "        new_positions = np.random.choice(available_positions, q - replace_number,replace=False)\n",
    "        for i in new_positions:\n",
    "            ds[i,column] = 1\n",
    "\n",
    "    return ds\n"
   ]
  },
  {
   "cell_type": "code",
   "execution_count": 4,
   "metadata": {},
   "outputs": [
    {
     "name": "stdout",
     "output_type": "stream",
     "text": [
      "[[1. 0. 0. 0. 0. 0. 0. 0. 0. 0.]\n",
      " [0. 0. 0. 0. 0. 0. 0. 0. 0. 0.]\n",
      " [0. 0. 0. 0. 0. 0. 0. 0. 0. 0.]\n",
      " [0. 0. 1. 0. 0. 0. 0. 0. 0. 0.]\n",
      " [0. 0. 0. 0. 1. 0. 0. 0. 0. 0.]\n",
      " [0. 0. 0. 0. 0. 0. 0. 0. 1. 0.]\n",
      " [0. 0. 0. 0. 0. 0. 0. 0. 0. 0.]\n",
      " [0. 0. 0. 0. 0. 0. 0. 0. 0. 0.]\n",
      " [0. 0. 0. 0. 0. 0. 0. 0. 1. 1.]\n",
      " [0. 0. 0. 0. 0. 0. 0. 0. 0. 0.]\n",
      " [0. 0. 0. 0. 0. 0. 0. 0. 0. 0.]\n",
      " [0. 0. 0. 1. 0. 0. 0. 0. 0. 0.]\n",
      " [0. 0. 0. 0. 0. 0. 0. 0. 0. 0.]\n",
      " [1. 0. 0. 0. 0. 0. 1. 0. 0. 0.]\n",
      " [0. 0. 0. 0. 0. 1. 0. 0. 0. 0.]\n",
      " [0. 0. 0. 1. 0. 0. 0. 0. 0. 0.]\n",
      " [0. 0. 0. 0. 0. 0. 0. 0. 0. 0.]\n",
      " [0. 1. 0. 0. 0. 0. 0. 0. 1. 0.]\n",
      " [0. 0. 0. 0. 0. 0. 0. 0. 0. 0.]\n",
      " [0. 0. 0. 0. 0. 0. 1. 0. 0. 0.]\n",
      " [0. 0. 0. 0. 0. 0. 1. 1. 0. 0.]\n",
      " [0. 0. 0. 0. 0. 0. 0. 0. 0. 0.]\n",
      " [0. 0. 1. 0. 0. 0. 0. 0. 1. 0.]\n",
      " [0. 0. 0. 0. 0. 0. 1. 0. 0. 0.]\n",
      " [0. 0. 0. 0. 0. 0. 0. 0. 0. 0.]\n",
      " [0. 0. 0. 0. 1. 0. 0. 0. 0. 0.]\n",
      " [0. 0. 1. 0. 1. 1. 0. 0. 0. 0.]\n",
      " [0. 0. 0. 1. 0. 0. 0. 0. 0. 0.]\n",
      " [1. 0. 0. 0. 0. 0. 0. 1. 0. 0.]\n",
      " [0. 0. 0. 0. 0. 0. 0. 1. 1. 1.]\n",
      " [0. 0. 0. 0. 0. 0. 0. 0. 0. 0.]\n",
      " [0. 0. 0. 0. 0. 0. 0. 1. 0. 0.]\n",
      " [0. 0. 0. 0. 0. 0. 0. 0. 0. 0.]\n",
      " [1. 0. 0. 0. 0. 0. 0. 0. 0. 0.]\n",
      " [1. 0. 0. 0. 0. 0. 0. 0. 0. 0.]\n",
      " [0. 0. 0. 0. 0. 0. 0. 0. 0. 0.]\n",
      " [0. 0. 0. 1. 0. 0. 0. 0. 0. 0.]\n",
      " [0. 0. 1. 0. 0. 1. 0. 0. 0. 0.]\n",
      " [0. 0. 0. 0. 0. 0. 0. 0. 0. 0.]\n",
      " [0. 0. 0. 0. 0. 0. 0. 0. 0. 0.]\n",
      " [1. 0. 0. 0. 0. 0. 0. 0. 0. 0.]\n",
      " [0. 0. 0. 0. 0. 0. 0. 0. 0. 0.]\n",
      " [0. 0. 0. 0. 0. 0. 0. 1. 0. 0.]\n",
      " [0. 0. 0. 0. 0. 0. 0. 0. 0. 0.]\n",
      " [0. 0. 0. 0. 0. 0. 0. 1. 0. 0.]\n",
      " [0. 0. 0. 1. 0. 0. 0. 0. 0. 0.]\n",
      " [0. 0. 0. 0. 0. 0. 0. 0. 1. 0.]\n",
      " [0. 0. 0. 0. 1. 0. 1. 0. 0. 0.]\n",
      " [0. 1. 0. 0. 1. 1. 0. 0. 0. 0.]\n",
      " [0. 0. 0. 0. 0. 0. 0. 0. 0. 0.]\n",
      " [1. 1. 1. 0. 0. 0. 0. 0. 0. 0.]\n",
      " [0. 0. 0. 0. 0. 1. 0. 0. 0. 0.]\n",
      " [0. 1. 0. 0. 1. 0. 0. 0. 0. 0.]\n",
      " [0. 0. 1. 0. 0. 0. 0. 0. 0. 0.]\n",
      " [0. 1. 0. 0. 1. 0. 0. 0. 0. 0.]\n",
      " [0. 0. 0. 0. 0. 0. 0. 0. 0. 0.]\n",
      " [0. 0. 0. 0. 0. 0. 0. 0. 0. 1.]\n",
      " [0. 0. 0. 0. 0. 0. 0. 0. 0. 1.]\n",
      " [0. 0. 0. 0. 0. 0. 0. 0. 0. 0.]\n",
      " [0. 1. 0. 0. 0. 0. 0. 0. 0. 1.]\n",
      " [0. 0. 0. 0. 0. 0. 0. 0. 0. 0.]\n",
      " [0. 0. 0. 0. 0. 0. 0. 0. 0. 1.]\n",
      " [0. 1. 0. 0. 0. 0. 0. 0. 0. 0.]\n",
      " [0. 1. 1. 1. 0. 1. 0. 1. 0. 0.]\n",
      " [0. 0. 1. 0. 1. 0. 0. 0. 0. 0.]\n",
      " [1. 1. 0. 0. 0. 0. 0. 0. 0. 0.]\n",
      " [1. 0. 0. 0. 0. 0. 0. 0. 0. 1.]\n",
      " [0. 0. 0. 0. 0. 0. 0. 0. 0. 0.]\n",
      " [0. 0. 0. 1. 1. 0. 0. 0. 0. 0.]\n",
      " [1. 0. 0. 0. 0. 0. 0. 0. 0. 1.]\n",
      " [0. 0. 0. 0. 0. 0. 0. 0. 0. 1.]\n",
      " [0. 0. 1. 1. 1. 0. 0. 0. 0. 0.]\n",
      " [0. 0. 0. 0. 0. 0. 1. 0. 0. 0.]\n",
      " [0. 0. 0. 0. 0. 0. 0. 0. 0. 0.]\n",
      " [0. 0. 0. 1. 0. 1. 1. 1. 0. 0.]\n",
      " [0. 1. 0. 0. 0. 0. 0. 0. 0. 0.]\n",
      " [0. 0. 0. 0. 0. 0. 0. 0. 1. 0.]\n",
      " [0. 0. 0. 0. 0. 0. 0. 0. 0. 0.]\n",
      " [0. 0. 0. 0. 0. 0. 1. 0. 0. 0.]\n",
      " [0. 0. 0. 1. 0. 0. 0. 0. 0. 0.]\n",
      " [0. 0. 0. 0. 0. 1. 0. 0. 1. 0.]\n",
      " [0. 0. 0. 0. 0. 0. 0. 0. 0. 0.]\n",
      " [0. 0. 0. 0. 0. 0. 0. 0. 0. 0.]\n",
      " [0. 0. 0. 0. 0. 0. 0. 1. 0. 1.]\n",
      " [0. 0. 0. 0. 0. 1. 1. 0. 0. 0.]\n",
      " [0. 0. 0. 0. 0. 0. 0. 0. 0. 0.]\n",
      " [0. 0. 0. 0. 0. 0. 0. 1. 1. 0.]\n",
      " [0. 0. 0. 0. 0. 0. 0. 0. 0. 0.]\n",
      " [0. 0. 0. 0. 0. 0. 0. 0. 0. 0.]\n",
      " [0. 0. 0. 0. 0. 0. 0. 0. 0. 0.]\n",
      " [0. 0. 1. 0. 0. 1. 0. 0. 0. 0.]\n",
      " [0. 0. 0. 0. 0. 0. 0. 0. 0. 0.]\n",
      " [0. 0. 0. 0. 0. 0. 0. 0. 0. 0.]\n",
      " [0. 0. 0. 0. 0. 0. 1. 0. 1. 0.]\n",
      " [0. 0. 0. 0. 0. 0. 0. 0. 0. 0.]\n",
      " [0. 0. 0. 0. 0. 0. 0. 0. 0. 0.]\n",
      " [0. 0. 0. 0. 0. 0. 0. 0. 0. 0.]\n",
      " [0. 0. 0. 0. 0. 0. 0. 0. 0. 0.]\n",
      " [0. 0. 0. 0. 0. 0. 0. 0. 0. 0.]\n",
      " [0. 0. 0. 0. 0. 0. 0. 0. 0. 0.]]\n"
     ]
    }
   ],
   "source": [
    "print(generating_data(10, 10, 0.2, 100))"
   ]
  },
  {
   "cell_type": "code",
   "execution_count": 5,
   "metadata": {},
   "outputs": [
    {
     "name": "stdout",
     "output_type": "stream",
     "text": [
      "[[0. 0. 0. ... 0. 0. 0.]\n",
      " [0. 0. 0. ... 1. 0. 0.]\n",
      " [0. 0. 0. ... 0. 0. 0.]\n",
      " ...\n",
      " [0. 0. 0. ... 0. 0. 0.]\n",
      " [0. 0. 0. ... 0. 0. 0.]\n",
      " [0. 0. 0. ... 0. 0. 0.]]\n"
     ]
    }
   ],
   "source": [
    "matrix =generating_data(100,20000,0.02,10**6)\n",
    "print(matrix)\n",
    "# everything above that cant handle my laptop\n",
    "\n"
   ]
  },
  {
   "cell_type": "code",
   "execution_count": 6,
   "metadata": {},
   "outputs": [
    {
     "name": "stdout",
     "output_type": "stream",
     "text": [
      "[[0. 0. 0. 1. 1.]\n",
      " [1. 0. 1. 0. 1.]\n",
      " [1. 0. 1. 1. 0.]\n",
      " [0. 1. 0. 0. 0.]\n",
      " [1. 1. 1. 0. 1.]\n",
      " [0. 1. 0. 1. 0.]]\n"
     ]
    }
   ],
   "source": [
    "dumb = np.array([[0., 0., 0., 0., 0.],\n",
    " [1. ,0., 0., 0., 0.],\n",
    " [1., 0., 0., 0., 0.],\n",
    " [0., 0., 0., 0., 0.],\n",
    " [1., 0., 0., 0., 0.],\n",
    " [0., 0., 0., 0., 0.]])\n",
    "\n",
    "for column in range(1,5):\n",
    "        current_positions = np.where(dumb[:,column-1] == 1)[0]\n",
    "\n",
    "        # Step 2: Determine the number of positions to replace\n",
    "        replace_number =  int(1)\n",
    "\n",
    "        # Step 3: Randomly select positions to replace\n",
    "        replace_positions = np.random.choice(current_positions,  replace_number,replace=False)\n",
    "        for i in replace_positions:\n",
    "            dumb[i,column] = 1\n",
    "        # Step 4: Generate new unique positions\n",
    "        available_positions = np.where(dumb[:,column-1] == 0)[0]\n",
    "        new_positions = np.random.choice(available_positions, 2,replace=False)\n",
    "\n",
    "        for i in new_positions:\n",
    "            dumb[i,column] = 1\n",
    "\n",
    "print(dumb)"
   ]
  },
  {
   "cell_type": "code",
   "execution_count": 7,
   "metadata": {},
   "outputs": [
    {
     "name": "stdout",
     "output_type": "stream",
     "text": [
      "[[  1   2   3   4   5]\n",
      " [  6   7   8   9  10]\n",
      " [ 11  12  13  14  15]\n",
      " [ 16  17  18  19  20]\n",
      " [ 21  22  23  24  25]\n",
      " [ 26  27  28  29  30]\n",
      " [ 31  32  33  34  35]\n",
      " [ 36  37  38  39  40]\n",
      " [ 41  42  43  44  45]\n",
      " [ 46  47  48  49  50]\n",
      " [ 51  52  53  54  55]\n",
      " [ 56  57  58  59  60]\n",
      " [ 61  62  63  64  65]\n",
      " [ 66  67  68  69  70]\n",
      " [ 71  72  73  74  75]\n",
      " [ 76  77  78  79  80]\n",
      " [ 81  82  83  84  85]\n",
      " [ 86  87  88  89  90]\n",
      " [ 91  92  93  94  95]\n",
      " [ 96  97  98  99 100]]\n",
      "[ 1  6 11 16 21 26 31 36 41 46 51 56 61 66 71 76 81 86 91 96]\n",
      "[ 1  6 11 16 21 26 31 36 41 46 51 56 61 66 71 76 81 86 91 96]\n",
      "[ 2  7 12 17 22 27 32 37 42 47 52 57 62 67 72 77 82 87 92 97]\n",
      "[ 3  8 13 18 23 28 33 38 43 48 53 58 63 68 73 78 83 88 93 98]\n",
      "[ 4  9 14 19 24 29 34 39 44 49 54 59 64 69 74 79 84 89 94 99]\n",
      "[  5  10  15  20  25  30  35  40  45  50  55  60  65  70  75  80  85  90\n",
      "  95 100]\n"
     ]
    }
   ],
   "source": [
    "x = np.arange(1, 101).reshape(20, 5)\n",
    "print(x)\n",
    "print(x[:,0])\n",
    "for col in x.T:\n",
    "    print(col)"
   ]
  },
  {
   "cell_type": "code",
   "execution_count": 78,
   "metadata": {},
   "outputs": [],
   "source": [
    "def generate_hash_functions(num_hash_funcs):\n",
    "    p = 2**31 - 1\n",
    "    hash_funcs = [(random.randint(0, 10**12), random.randint(0, 10**12), p) for _ in range(num_hash_funcs)]\n",
    "    return hash_funcs\n",
    "\n",
    "def approx_permutation(num_rows, hash_params):\n",
    "    col = np.arange(num_rows)\n",
    "    a, b, p = hash_params\n",
    "    hash = ((a*col + b) % p) % num_rows\n",
    "    return hash\n",
    "\n",
    "def minHashing(col, hashed_col):\n",
    "    min_hash = None\n",
    "    for idx, hash_elem in enumerate(hashed_col):\n",
    "        smaller_val_cond =  (min_hash == None or min_hash > hash_elem )\n",
    "        if smaller_val_cond and col[idx] == 1:\n",
    "            min_hash = hash_elem\n",
    "    return min_hash\n",
    "\n",
    "\n",
    "def minHash_signatures(input_data, hash_funcs):\n",
    "    num_hash_funcs = len(hash_funcs)\n",
    "    num_cols = input_data.shape[1]\n",
    "    num_rows = input_data.shape[0]\n",
    "    signature = np.empty((num_hash_funcs, num_cols))\n",
    "    for idx_row, hash_params in enumerate(hash_funcs):\n",
    "            hash_col = approx_permutation(num_rows, hash_params)\n",
    "            for idx_col, col in enumerate(input_data.T):\n",
    "                min_hash = minHashing(col, hash_col)\n",
    "                signature[idx_row, idx_col] = min_hash\n",
    "    return signature"
   ]
  },
  {
   "cell_type": "code",
   "execution_count": 93,
   "metadata": {},
   "outputs": [
    {
     "name": "stdout",
     "output_type": "stream",
     "text": [
      "[[19. 63. 22. 15. 33.  8. 53. 73.  3. 59.]\n",
      " [32. 28. 19. 21. 50. 11. 77.  3. 21. 38.]\n",
      " [24. 64. 48.  8. 30. 41. 19.  8. 41. 48.]\n",
      " [ 5. 35. 43.  3. 22. 56.  8. 19. 36. 82.]\n",
      " [14. 64. 25. 14.  5. 52. 27. 63. 22. 11.]]\n"
     ]
    }
   ],
   "source": [
    "def create_sig_matrix_routine(num_cols, num_rows, q, df, num_hash_funcs, ):\n",
    "    hash_funcs = generate_hash_functions(num_hash_funcs)\n",
    "    data = generating_data(num_cols, q, df, num_rows)\n",
    "    sig_matrix = minHash_signatures(data, hash_funcs)\n",
    "    return sig_matrix\n",
    "\n",
    "test = create_sig_matrix_routine(10, 100,  2, 0.1, 5)\n",
    "print(test)"
   ]
  },
  {
   "cell_type": "code",
   "execution_count": null,
   "metadata": {},
   "outputs": [
    {
     "name": "stdout",
     "output_type": "stream",
     "text": [
      "[(937008289145, 755886307574, 2147483647), (501866831459, 41158737821, 2147483647)]\n",
      "[[1. 0. 1. 1. 0. 0. 0. 1. 0. 1.]\n",
      " [0. 1. 0. 0. 1. 0. 1. 0. 1. 0.]\n",
      " [0. 1. 0. 0. 0. 1. 0. 1. 0. 1.]\n",
      " [1. 0. 1. 0. 0. 0. 1. 1. 0. 1.]\n",
      " [0. 0. 1. 0. 1. 1. 1. 0. 1. 0.]\n",
      " [1. 0. 1. 0. 1. 0. 0. 1. 1. 0.]\n",
      " [0. 1. 0. 1. 0. 0. 1. 0. 0. 0.]\n",
      " [0. 1. 1. 0. 1. 0. 1. 0. 0. 1.]\n",
      " [1. 0. 1. 0. 1. 0. 0. 0. 1. 0.]\n",
      " [1. 1. 0. 1. 0. 1. 0. 0. 1. 1.]\n",
      " [1. 0. 0. 1. 0. 1. 0. 1. 0. 0.]\n",
      " [0. 1. 0. 1. 0. 1. 0. 1. 0. 1.]\n",
      " [1. 0. 0. 1. 1. 0. 1. 0. 0. 1.]\n",
      " [1. 0. 1. 0. 1. 0. 1. 0. 1. 0.]\n",
      " [1. 0. 0. 0. 1. 0. 1. 0. 1. 0.]\n",
      " [0. 1. 0. 1. 0. 1. 0. 1. 0. 1.]\n",
      " [0. 1. 0. 1. 0. 1. 0. 1. 0. 0.]\n",
      " [0. 1. 0. 1. 0. 1. 0. 0. 1. 0.]\n",
      " [0. 0. 1. 0. 0. 1. 0. 1. 0. 1.]\n",
      " [0. 0. 1. 0. 1. 0. 1. 0. 1. 0.]]\n",
      "[1. 0. 0. 1. 0. 1. 0. 0. 1. 1. 1. 0. 1. 1. 1. 0. 0. 0. 0. 0.]\n",
      "[7 3 6 9 5 8 1 7 0 3]\n",
      "0\n",
      "[[0. 1. 0. 1. 0. 3. 1. 3. 0. 5.]\n",
      " [7. 0. 6. 0. 6. 0. 6. 7. 0. 7.]]\n"
     ]
    }
   ],
   "source": [
    "hash_funcs = generate_hash_functions(2)\n",
    "print(hash_funcs)\n",
    "elem = 0\n",
    "\n",
    "test_data = generating_data(10, 9, 0.2, 20)\n",
    "print(test_data)\n",
    "test_col = test_data[:, 0]\n",
    "print(test_col)\n",
    "hashed_col = approx_permutation(10, hash_funcs[0])\n",
    "print(hashed_col)\n",
    "test_hash = minHashing(test_col, hashed_col)\n",
    "print(test_hash)\n",
    "\n",
    "test_sig = minHash_signatures(test_data, hash_funcs)\n",
    "print(test_sig)"
   ]
  },
  {
   "cell_type": "code",
   "execution_count": null,
   "metadata": {},
   "outputs": [],
   "source": [
    "def compute_signature_matrix(num_hash_funcs, N, input_data):\n",
    "\n",
    "    hash_funcs = generate_hash_functions(num_hash_funcs)\n",
    "    num_cols = input_data.shape[1]\n",
    "    # Initialize the signature matrix\n",
    "    sig_matrix = np.zeros((num_hash_funcs, num_cols),dtype=int)\n",
    "\n",
    "    # Compute MinHash signatures for each column\n",
    "    for col_idx in  range(num_cols):\n",
    "        signature = minhash_signatures(input_data[:,col_idx], hash_funcs,N)\n",
    "        print(signature)\n",
    "        for row_idx in range(num_hash_funcs):\n",
    "            sig_matrix[row_idx,col_idx] = signature[row_idx]\n",
    "\n",
    "    return sig_matrix\n",
    "\n",
    "#compute_signature_matrix(7,10**8,dumb)"
   ]
  },
  {
   "cell_type": "code",
   "execution_count": 17,
   "metadata": {},
   "outputs": [
    {
     "name": "stdout",
     "output_type": "stream",
     "text": [
      "[[0. 1. 0. 1. 0. 1. 0. 1. 1. 0.]\n",
      " [0. 0. 1. 0. 1. 0. 0. 1. 0. 0.]\n",
      " [1. 0. 1. 0. 0. 1. 1. 0. 1. 0.]\n",
      " [0. 1. 1. 0. 1. 0. 1. 0. 1. 0.]\n",
      " [0. 1. 0. 1. 0. 1. 0. 1. 0. 1.]\n",
      " [1. 0. 1. 0. 0. 0. 1. 1. 0. 1.]\n",
      " [0. 1. 0. 0. 1. 0. 1. 0. 1. 0.]\n",
      " [1. 1. 0. 1. 0. 0. 1. 0. 0. 1.]\n",
      " [1. 0. 0. 0. 0. 1. 0. 0. 1. 0.]\n",
      " [1. 0. 1. 1. 0. 0. 1. 0. 1. 1.]\n",
      " [0. 1. 0. 1. 0. 1. 0. 1. 0. 0.]\n",
      " [0. 0. 1. 0. 1. 0. 0. 1. 0. 1.]\n",
      " [0. 1. 0. 0. 1. 0. 1. 0. 1. 0.]\n",
      " [1. 0. 0. 1. 0. 1. 0. 0. 1. 0.]\n",
      " [0. 1. 0. 1. 0. 1. 0. 1. 0. 1.]\n",
      " [1. 0. 0. 1. 0. 1. 0. 1. 0. 0.]\n",
      " [1. 0. 1. 0. 1. 0. 1. 0. 0. 1.]\n",
      " [0. 1. 0. 1. 1. 1. 0. 0. 1. 0.]\n",
      " [0. 0. 1. 0. 1. 0. 1. 0. 0. 1.]\n",
      " [1. 0. 1. 0. 1. 0. 0. 1. 0. 1.]]\n"
     ]
    }
   ],
   "source": [
    "test = generating_data(10, 9, 0.2, 20)\n",
    "print(test)"
   ]
  }
 ],
 "metadata": {
  "kernelspec": {
   "display_name": "Python 3",
   "language": "python",
   "name": "python3"
  },
  "language_info": {
   "codemirror_mode": {
    "name": "ipython",
    "version": 3
   },
   "file_extension": ".py",
   "mimetype": "text/x-python",
   "name": "python",
   "nbconvert_exporter": "python",
   "pygments_lexer": "ipython3",
   "version": "3.10.12"
  }
 },
 "nbformat": 4,
 "nbformat_minor": 2
}
