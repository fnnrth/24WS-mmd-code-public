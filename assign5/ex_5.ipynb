{
 "cells": [
  {
   "cell_type": "code",
   "execution_count": 7,
   "metadata": {},
   "outputs": [],
   "source": [
    "import numpy as np\n",
    "import numpy.random as npr"
   ]
  },
  {
   "cell_type": "code",
   "execution_count": 8,
   "metadata": {},
   "outputs": [],
   "source": [
    "def ams_method(stream: list[int], length: int, degree, num_aux_vars: int ) -> float:\n",
    "    \"\"\"\n",
    "    The AMS method for estimating the number of distinct elements in a stream.\n",
    "    :param stream: The stream of elements.\n",
    "    :param length: The length of the stream.\n",
    "    :param degree: The degree of the hash function.\n",
    "    :param num_aux_vars: The number of auxiliary variables.\n",
    "    :return: The estimated number of distinct elements in the stream.\n",
    "    \"\"\"\n",
    "    aux_vars_time = npr.randint(0, length, num_aux_vars)\n",
    "    aux_vars_time.sort()\n",
    "    aux_elems = stream[aux_vars_time]\n",
    "    aux_count = np.zeros(num_aux_vars)\n",
    "    for stream_time, stream_elem in enumerate(stream):\n",
    "        for aux_idx, aux_elem in enumerate(aux_elems):\n",
    "            aux_time = aux_vars_time[aux_idx]\n",
    "            if stream_elem == aux_elem and aux_time >= stream_time:\n",
    "                aux_count[aux_idx] += 1\n",
    "\n",
    "    estimate = np.mean(aux_count**degree)\n",
    "    return estimate\n",
    "\n"
   ]
  },
  {
   "cell_type": "code",
   "execution_count": 9,
   "metadata": {},
   "outputs": [],
   "source": [
    "stream_example = np.array([1, 2, 3, 2, 4, 1, 3, 4, 1, 2, 4, 3, 1, 1, 2])\n",
    "degree = 2\n",
    "num_aux_vars = 3\n",
    "length = len(stream_example)\n"
   ]
  },
  {
   "cell_type": "code",
   "execution_count": 10,
   "metadata": {},
   "outputs": [
    {
     "name": "stdout",
     "output_type": "stream",
     "text": [
      "k: 1, num_vars: 1, estimate: 2.0\n",
      "k: 1, num_vars: 3, estimate: 1.6666666666666667\n",
      "k: 1, num_vars: 5, estimate: 2.4\n",
      "k: 1, num_vars: 7, estimate: 1.8571428571428572\n",
      "k: 1, num_vars: 9, estimate: 2.888888888888889\n",
      "k: 2, num_vars: 1, estimate: 4.0\n",
      "k: 2, num_vars: 3, estimate: 9.666666666666666\n",
      "k: 2, num_vars: 5, estimate: 7.6\n",
      "k: 2, num_vars: 7, estimate: 9.428571428571429\n",
      "k: 2, num_vars: 9, estimate: 6.222222222222222\n",
      "k: 3, num_vars: 1, estimate: 27.0\n",
      "k: 3, num_vars: 3, estimate: 22.0\n",
      "k: 3, num_vars: 5, estimate: 11.4\n",
      "k: 3, num_vars: 7, estimate: 8.714285714285714\n",
      "k: 3, num_vars: 9, estimate: 32.0\n",
      "{(1, 1): 2.0, (1, 3): 1.6666666666666667, (1, 5): 2.4, (1, 7): 1.8571428571428572, (1, 9): 2.888888888888889, (2, 1): 4.0, (2, 3): 9.666666666666666, (2, 5): 7.6, (2, 7): 9.428571428571429, (2, 9): 6.222222222222222, (3, 1): 27.0, (3, 3): 22.0, (3, 5): 11.4, (3, 7): 8.714285714285714, (3, 9): 32.0}\n"
     ]
    }
   ],
   "source": [
    "#a)\n",
    "num_vars_candidates = [1,3,5,7,9]\n",
    "k_candidates = [1,2,3]\n",
    "estimates = {}\n",
    "for k in k_candidates:\n",
    "    for num_vars in num_vars_candidates:\n",
    "        estimate = ams_method(stream_example, length, k, num_vars)\n",
    "        estimates[(k, num_vars)] = estimate\n",
    "        print(f'k: {k}, num_vars: {num_vars}, estimate: {estimate}')\n",
    "print(estimates)"
   ]
  },
  {
   "cell_type": "code",
   "execution_count": 11,
   "metadata": {},
   "outputs": [
    {
     "name": "stdout",
     "output_type": "stream",
     "text": [
      "Element counts: {1: 5, 2: 4, 3: 3, 4: 3}\n",
      "Exact third moment: 60.75\n"
     ]
    }
   ],
   "source": [
    "#b) Exact third moment\n",
    "unique, counts = np.unique(stream_example, return_counts=True)\n",
    "element_counts = dict(zip(unique, counts))\n",
    "print(f'Element counts: {element_counts}')\n",
    "exact_third = np.mean([count**3 for count in element_counts.values()])\n",
    "print(f'Exact third moment: {exact_third}')"
   ]
  },
  {
   "cell_type": "code",
   "execution_count": 12,
   "metadata": {},
   "outputs": [],
   "source": [
    "#c) With more higher v the estinmate becomes more accurate, law of large numbers"
   ]
  }
 ],
 "metadata": {
  "kernelspec": {
   "display_name": "Python 3",
   "language": "python",
   "name": "python3"
  },
  "language_info": {
   "codemirror_mode": {
    "name": "ipython",
    "version": 3
   },
   "file_extension": ".py",
   "mimetype": "text/x-python",
   "name": "python",
   "nbconvert_exporter": "python",
   "pygments_lexer": "ipython3",
   "version": "3.10.12"
  }
 },
 "nbformat": 4,
 "nbformat_minor": 2
}
