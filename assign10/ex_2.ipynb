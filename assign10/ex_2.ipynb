{
 "cells": [
  {
   "cell_type": "code",
   "execution_count": 44,
   "metadata": {},
   "outputs": [],
   "source": [
    "import pandas as pd"
   ]
  },
  {
   "cell_type": "code",
   "execution_count": 45,
   "metadata": {},
   "outputs": [],
   "source": [
    "#a)\n",
    "def add_key(dict, key):\n",
    "    if key not in dict:\n",
    "        dict[key] = {\n",
    "            \"in\": [],\n",
    "            \"out\": []\n",
    "        }\n",
    "    return dict\n",
    "\n",
    "def fill_dict(raw_data):\n",
    "    graph = {}\n",
    "    for from_node, to_node in zip(raw_data[\" FromNodeId\"], raw_data[\"ToNodeId\"]):\n",
    "        graph = add_key(graph, from_node)\n",
    "        graph = add_key(graph, to_node)\n",
    "        graph[from_node][\"out\"].append(to_node)\n",
    "        graph[to_node][\"in\"].append(from_node)\n",
    "    return graph"
   ]
  },
  {
   "cell_type": "code",
   "execution_count": 46,
   "metadata": {},
   "outputs": [
    {
     "name": "stdout",
     "output_type": "stream",
     "text": [
      "    FromNodeId  ToNodeId\n",
      "0            1      6548\n",
      "1            1     15409\n",
      "2         6548     57031\n",
      "3        15409     13102\n",
      "4            2     17794\n",
      "5            2     25202\n",
      "6            2     53625\n",
      "7            2     54582\n",
      "8            2     64930\n",
      "9            2     73764\n",
      "1587\n",
      "1 {'in': [], 'out': [6548, 15409]}\n",
      "6548 {'in': [1], 'out': [57031]}\n",
      "15409 {'in': [1], 'out': [13102]}\n",
      "57031 {'in': [6548], 'out': []}\n",
      "13102 {'in': [15409], 'out': []}\n",
      "2 {'in': [252915, 246897, 251658, 280935, 213966, 243294, 225119, 241596, 178642, 210870, 204189, 190453, 204604, 181714, 164599, 175799, 163550, 140864, 115926, 73764, 105730, 98628, 84477, 105318, 100193, 102355, 64930, 54582, 53625, 25202, 17794], 'out': [17794, 25202, 53625, 54582, 64930, 73764, 84477, 98628, 100193, 102355, 105318, 105730, 115926, 140864, 163550, 164599, 175799, 178642, 181714, 190453, 204189, 204604, 210870, 213966, 225119, 241596, 243294, 246897, 251658, 252915, 280935]}\n",
      "17794 {'in': [2], 'out': [2]}\n",
      "25202 {'in': [2], 'out': [2]}\n",
      "53625 {'in': [2], 'out': [2]}\n",
      "54582 {'in': [2], 'out': [2]}\n"
     ]
    }
   ],
   "source": [
    "path = \"data/stanford_small.txt\"\n",
    "raw_data = pd.read_csv(path, delimiter=\"\\t\", header=0, comment=\"#\")\n",
    "print(raw_data.head(10))\n",
    "graph = fill_dict(raw_data)\n",
    "print(len(graph))\n",
    "for i, (k, v) in enumerate(graph.items()):\n",
    "    print(k, v)\n",
    "    if i == 9:\n",
    "        break"
   ]
  },
  {
   "cell_type": "code",
   "execution_count": 48,
   "metadata": {},
   "outputs": [],
   "source": [
    "def pagerank_distributed(graph, iterations, damping_factor):\n",
    "    N = len(graph)\n",
    "    rank = 1 / N\n",
    "    rdm_tele_val = (1 - damping_factor) / N\n",
    "    graph = {node: {**data, 'rank_old': rank} for node, data in graph.items()}\n",
    "    for t in range(iterations):\n",
    "        graph = {node: {**data, 'rank_new': graph[node][\"rank_old\"] * rdm_tele_val} for node, data in graph.items()}\n",
    "        for node in graph:\n",
    "            old_rank = graph[node]['rank_old']\n",
    "            out_nodes = graph[node]['out']\n",
    "            out_degree = len(out_nodes)\n",
    "            for out_node in out_nodes:\n",
    "                graph[out_node]['rank_new'] += damping_factor * old_rank / out_degree\n",
    "    return graph"
   ]
  },
  {
   "cell_type": "code",
   "execution_count": 52,
   "metadata": {},
   "outputs": [
    {
     "name": "stdout",
     "output_type": "stream",
     "text": [
      "0.09993698802772472\n"
     ]
    }
   ],
   "source": [
    "graphs_w_pagerank = pagerank_distributed(graph, 5, 0.8)\n",
    "sum_values = 0\n",
    "for node, data in graphs_w_pagerank.items():\n",
    "    #print(node, data[\"rank_new\"])\n",
    "    sum_values += data[\"rank_new\"]\n",
    "print(sum_values)\n",
    "\n"
   ]
  }
 ],
 "metadata": {
  "kernelspec": {
   "display_name": "Python 3",
   "language": "python",
   "name": "python3"
  },
  "language_info": {
   "codemirror_mode": {
    "name": "ipython",
    "version": 3
   },
   "file_extension": ".py",
   "mimetype": "text/x-python",
   "name": "python",
   "nbconvert_exporter": "python",
   "pygments_lexer": "ipython3",
   "version": "3.10.12"
  }
 },
 "nbformat": 4,
 "nbformat_minor": 2
}
