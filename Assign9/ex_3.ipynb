{
 "cells": [
  {
   "cell_type": "code",
   "execution_count": 1,
   "metadata": {},
   "outputs": [],
   "source": [
    "import numpy as np"
   ]
  },
  {
   "cell_type": "code",
   "execution_count": 15,
   "metadata": {},
   "outputs": [],
   "source": [
    "def pagerank(M: np.ndarray, beta: float, epsilon: float) -> np.ndarray:\n",
    "    n = M.shape[1]\n",
    "    v = 1/n * np.ones(n)\n",
    "    A = M* beta + (1-beta)/n * np.ones((n,n))\n",
    "    v_new = A @ v\n",
    "    while np.sum(np.abs(v - v_new)) > epsilon:\n",
    "        v = v_new\n",
    "        v_new = A @ v\n",
    "    return v_new"
   ]
  },
  {
   "cell_type": "code",
   "execution_count": 14,
   "metadata": {},
   "outputs": [
    {
     "name": "stdout",
     "output_type": "stream",
     "text": [
      "[5. 5. 5. 5. 5.]\n"
     ]
    }
   ],
   "source": [
    "n = 5\n",
    "M_ones = np.ones((n, n))\n",
    "v_ones = np.ones(n)\n",
    "result = M_ones @ v_ones\n",
    "print(result)"
   ]
  },
  {
   "cell_type": "code",
   "execution_count": null,
   "metadata": {},
   "outputs": [],
   "source": [
    "def gen_M(num_vertices) -> np.ndarray:\n",
    "    M = (np.ones((num_vertices, num_vertices)) - np.eye(num_vertices) )/ (num_vertices-1)\n",
    "    return M"
   ]
  },
  {
   "cell_type": "code",
   "execution_count": 18,
   "metadata": {},
   "outputs": [
    {
     "name": "stdout",
     "output_type": "stream",
     "text": [
      "[0.00293527 0.00327664 0.00327664 0.00492157 0.08170279]\n",
      "0.09611291270258236\n"
     ]
    }
   ],
   "source": [
    "beta = 0.9\n",
    "epsilon = 1e-3\n",
    "M = np.array([[0, 0, 1/3, 0, 0],\n",
    "              [0.5, 0, 0, 0, 0],\n",
    "              [0.5, 0, 0, 0, 0],\n",
    "              [0, 1/3, 2/3, 0, 0],\n",
    "              [0, 1/3, 0, 1, 1]])\n",
    "\n",
    "v =pagerank(M, beta, epsilon)\n",
    "print(v)\n",
    "print(np.sum(v))"
   ]
  },
  {
   "cell_type": "code",
   "execution_count": 19,
   "metadata": {},
   "outputs": [
    {
     "name": "stdout",
     "output_type": "stream",
     "text": [
      "[0.25 0.25 0.25 0.25]\n",
      "[0.16666667 0.16666667 0.16666667 0.16666667 0.16666667 0.16666667]\n"
     ]
    }
   ],
   "source": [
    "M_4 = gen_M(4)\n",
    "M_6 = gen_M(6)\n",
    "\n",
    "beta = 4/5\n",
    "epsilon = 1/12\n",
    "\n",
    "# b)\n",
    "print(pagerank(M_4, beta, epsilon))\n",
    "print(pagerank(M_6, beta, epsilon))"
   ]
  }
 ],
 "metadata": {
  "kernelspec": {
   "display_name": "Python 3",
   "language": "python",
   "name": "python3"
  },
  "language_info": {
   "codemirror_mode": {
    "name": "ipython",
    "version": 3
   },
   "file_extension": ".py",
   "mimetype": "text/x-python",
   "name": "python",
   "nbconvert_exporter": "python",
   "pygments_lexer": "ipython3",
   "version": "3.10.12"
  }
 },
 "nbformat": 4,
 "nbformat_minor": 2
}
